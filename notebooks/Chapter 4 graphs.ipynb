{
 "cells": [
  {
   "cell_type": "code",
   "execution_count": 3,
   "metadata": {},
   "outputs": [
    {
     "data": {
      "text/plain": [
       "'4.7.1.3concat dfa.gv.dot'"
      ]
     },
     "execution_count": 3,
     "metadata": {},
     "output_type": "execute_result"
    }
   ],
   "source": [
    "from graphviz import Digraph\n",
    "\n",
    "g = Digraph('4.7.1.3 Concat DFA', filename='4.7.1.3concat dfa.gv', engine='dot', format='dot')\n",
    "\n",
    "g.attr('node', shape='circle')\n",
    "g.node('I')\n",
    "g.node('B')\n",
    "g.edge('I', 'I', label='0')\n",
    "g.edge('I', 'B', label='1')\n",
    "g.edge('B', 'B', label='0')\n",
    "g.edge('B', 'B', label='1')\n",
    "g.attr('node', shape='doublecircle')\n",
    "g.node('F')\n",
    "g.edge('I', 'F', label='ϵ')\n",
    "g.edge('F', 'F', label='1')\n",
    "g.edge('F', 'B', label='0')\n",
    "g.view()\n"
   ]
  },
  {
   "cell_type": "code",
   "execution_count": null,
   "metadata": {},
   "outputs": [],
   "source": []
  }
 ],
 "metadata": {
  "kernelspec": {
   "display_name": "Python 3",
   "language": "python",
   "name": "python3"
  },
  "language_info": {
   "codemirror_mode": {
    "name": "ipython",
    "version": 3
   },
   "file_extension": ".py",
   "mimetype": "text/x-python",
   "name": "python",
   "nbconvert_exporter": "python",
   "pygments_lexer": "ipython3",
   "version": "3.7.2"
  }
 },
 "nbformat": 4,
 "nbformat_minor": 2
}
